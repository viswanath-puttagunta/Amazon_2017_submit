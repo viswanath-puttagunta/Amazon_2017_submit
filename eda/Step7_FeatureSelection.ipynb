{
 "cells": [
  {
   "cell_type": "markdown",
   "metadata": {},
   "source": [
    "### Based on Steps 1-5. Only doing feature selection among a2, a7 and a4 derived features"
   ]
  },
  {
   "cell_type": "code",
   "execution_count": 2,
   "metadata": {
    "collapsed": true
   },
   "outputs": [],
   "source": [
    "import pandas as pd\n",
    "import sys\n",
    "import matplotlib.pyplot as plt\n",
    "from matplotlib.colors import ListedColormap\n",
    "import numpy as np\n",
    "\n",
    "from sklearn.discriminant_analysis import QuadraticDiscriminantAnalysis\n",
    "from sklearn.linear_model import LogisticRegression\n",
    "\n",
    "from sklearn.feature_selection import VarianceThreshold\n",
    "from sklearn.feature_selection import RFE\n",
    "\n",
    "from sklearn.linear_model import RandomizedLasso\n",
    "\n",
    "%matplotlib inline\n",
    "cmap_bold = ListedColormap(['#00FF00','#FF0000'])"
   ]
  },
  {
   "cell_type": "code",
   "execution_count": 4,
   "metadata": {
    "collapsed": true
   },
   "outputs": [],
   "source": [
    "sys.path.append('../utils')"
   ]
  },
  {
   "cell_type": "code",
   "execution_count": 5,
   "metadata": {
    "collapsed": true
   },
   "outputs": [],
   "source": [
    "import DataAggregation as da\n",
    "import AlgoUtils as au"
   ]
  },
  {
   "cell_type": "code",
   "execution_count": 6,
   "metadata": {
    "collapsed": true
   },
   "outputs": [],
   "source": [
    "algos_dd = {\n",
    "    \"LogisticRegression\": {\"C\": 1e9},\n",
    "    \"LogisticRegressionB\": {\"C\": 1e9, \"class_weight\":'balanced'},\n",
    "    \"KNeighborsClassifier\": {\"n_neighbors\": 7},\n",
    "    \"LinearDiscriminantAnalysis\": {},\n",
    "    \"QuadraticDiscriminantAnalysis\": {},\n",
    "    \"SVC\": {}\n",
    "}\n",
    "\n",
    "fcols = [\"d_mean:d_std:d_max:l_range\",\n",
    "         \"d_mean:d_std:l_range\",\n",
    "         \"d_std:l_range\",\n",
    "         \"l_range\",\n",
    "         \"d_std\",\n",
    "         \"d_max\"]\n",
    "algos_str = [\"LogisticRegression\", \n",
    "             \"LogisticRegressionB\", \n",
    "             \"KNeighborsClassifier\",\n",
    "             \"LinearDiscriminantAnalysis\",\n",
    "             \"QuadraticDiscriminantAnalysis\"]"
   ]
  },
  {
   "cell_type": "code",
   "execution_count": 7,
   "metadata": {
    "collapsed": true
   },
   "outputs": [],
   "source": [
    "a2 = da.GetFrames(\"../data/device_failure.csv\", \"a2\")\n",
    "a7 = da.GetFrames(\"../data/device_failure.csv\", \"a7\")\n",
    "a4 = da.GetFrames(\"../data/device_failure.csv\", \"a4\", ldays=-30, lday_strict=False)\n",
    "tdf = a2.df_sfeature.drop(\"failure\", axis=1).join(a7.df_sfeature.drop(\"failure\", axis=1)).join(a4.df_sfeature)"
   ]
  },
  {
   "cell_type": "code",
   "execution_count": 8,
   "metadata": {
    "collapsed": false
   },
   "outputs": [
    {
     "data": {
      "text/html": [
       "<div>\n",
       "<table border=\"1\" class=\"dataframe\">\n",
       "  <thead>\n",
       "    <tr style=\"text-align: right;\">\n",
       "      <th></th>\n",
       "      <th>a2d_max</th>\n",
       "      <th>a2d_mean</th>\n",
       "      <th>a2d_std</th>\n",
       "      <th>a2l_range</th>\n",
       "      <th>a7d_max</th>\n",
       "      <th>a7d_mean</th>\n",
       "      <th>a7d_std</th>\n",
       "      <th>a7l_range</th>\n",
       "      <th>a4d_max</th>\n",
       "      <th>a4d_mean</th>\n",
       "      <th>a4d_std</th>\n",
       "      <th>a4l_range</th>\n",
       "      <th>failure</th>\n",
       "    </tr>\n",
       "  </thead>\n",
       "  <tbody>\n",
       "    <tr>\n",
       "      <th>S1F01085</th>\n",
       "      <td>0</td>\n",
       "      <td>0</td>\n",
       "      <td>0</td>\n",
       "      <td>0</td>\n",
       "      <td>0</td>\n",
       "      <td>0</td>\n",
       "      <td>0</td>\n",
       "      <td>0</td>\n",
       "      <td>0</td>\n",
       "      <td>0</td>\n",
       "      <td>0</td>\n",
       "      <td>0</td>\n",
       "      <td>0</td>\n",
       "    </tr>\n",
       "    <tr>\n",
       "      <th>S1F013BB</th>\n",
       "      <td>0</td>\n",
       "      <td>0</td>\n",
       "      <td>0</td>\n",
       "      <td>0</td>\n",
       "      <td>0</td>\n",
       "      <td>0</td>\n",
       "      <td>0</td>\n",
       "      <td>0</td>\n",
       "      <td>0</td>\n",
       "      <td>0</td>\n",
       "      <td>0</td>\n",
       "      <td>0</td>\n",
       "      <td>0</td>\n",
       "    </tr>\n",
       "    <tr>\n",
       "      <th>S1F0166B</th>\n",
       "      <td>0</td>\n",
       "      <td>0</td>\n",
       "      <td>0</td>\n",
       "      <td>0</td>\n",
       "      <td>0</td>\n",
       "      <td>0</td>\n",
       "      <td>0</td>\n",
       "      <td>0</td>\n",
       "      <td>0</td>\n",
       "      <td>0</td>\n",
       "      <td>0</td>\n",
       "      <td>0</td>\n",
       "      <td>0</td>\n",
       "    </tr>\n",
       "    <tr>\n",
       "      <th>S1F01E6Y</th>\n",
       "      <td>0</td>\n",
       "      <td>0</td>\n",
       "      <td>0</td>\n",
       "      <td>0</td>\n",
       "      <td>0</td>\n",
       "      <td>0</td>\n",
       "      <td>0</td>\n",
       "      <td>0</td>\n",
       "      <td>0</td>\n",
       "      <td>0</td>\n",
       "      <td>0</td>\n",
       "      <td>0</td>\n",
       "      <td>0</td>\n",
       "    </tr>\n",
       "    <tr>\n",
       "      <th>S1F01JE0</th>\n",
       "      <td>0</td>\n",
       "      <td>0</td>\n",
       "      <td>0</td>\n",
       "      <td>0</td>\n",
       "      <td>0</td>\n",
       "      <td>0</td>\n",
       "      <td>0</td>\n",
       "      <td>0</td>\n",
       "      <td>0</td>\n",
       "      <td>0</td>\n",
       "      <td>0</td>\n",
       "      <td>0</td>\n",
       "      <td>0</td>\n",
       "    </tr>\n",
       "  </tbody>\n",
       "</table>\n",
       "</div>"
      ],
      "text/plain": [
       "          a2d_max  a2d_mean  a2d_std  a2l_range  a7d_max  a7d_mean  a7d_std  \\\n",
       "S1F01085        0         0        0          0        0         0        0   \n",
       "S1F013BB        0         0        0          0        0         0        0   \n",
       "S1F0166B        0         0        0          0        0         0        0   \n",
       "S1F01E6Y        0         0        0          0        0         0        0   \n",
       "S1F01JE0        0         0        0          0        0         0        0   \n",
       "\n",
       "          a7l_range  a4d_max  a4d_mean  a4d_std  a4l_range  failure  \n",
       "S1F01085          0        0         0        0          0        0  \n",
       "S1F013BB          0        0         0        0          0        0  \n",
       "S1F0166B          0        0         0        0          0        0  \n",
       "S1F01E6Y          0        0         0        0          0        0  \n",
       "S1F01JE0          0        0         0        0          0        0  "
      ]
     },
     "execution_count": 8,
     "metadata": {},
     "output_type": "execute_result"
    }
   ],
   "source": [
    "tdf.head()"
   ]
  },
  {
   "cell_type": "markdown",
   "metadata": {},
   "source": [
    "### Baseline of what I think will work the best"
   ]
  },
  {
   "cell_type": "code",
   "execution_count": 10,
   "metadata": {
    "collapsed": false
   },
   "outputs": [
    {
     "name": "stdout",
     "output_type": "stream",
     "text": [
      "Cross-val-score(roc_auc) = 0.72\n",
      "Cross-val-score(accuracy) = 0.94\n",
      "Cross-val-score(recall)   = 0.42\n",
      "Cross-val-score(precision)= 0.80\n",
      "Cross-val-score(f1)       = 0.80\n"
     ]
    }
   ],
   "source": [
    "algo_str = \"QuadraticDiscriminantAnalysis\"\n",
    "scols = [\"a2d_std\", \"a7d_std\",\"a7l_range\",\"a7d_mean\", \"a7d_max\"]\n",
    "analysisdf = au.do_clf_validate_new(tdf, algo_str,algos_dd[algo_str], scols, \"failure\")"
   ]
  },
  {
   "cell_type": "markdown",
   "metadata": {},
   "source": [
    "### Baseline with all features"
   ]
  },
  {
   "cell_type": "code",
   "execution_count": 11,
   "metadata": {
    "collapsed": false
   },
   "outputs": [
    {
     "name": "stdout",
     "output_type": "stream",
     "text": [
      "Cross-val-score(roc_auc) = 0.78\n",
      "Cross-val-score(accuracy) = 0.93\n",
      "Cross-val-score(recall)   = 0.56\n",
      "Cross-val-score(precision)= 0.65\n",
      "Cross-val-score(f1)       = 0.65\n"
     ]
    }
   ],
   "source": [
    "algo_str = \"QuadraticDiscriminantAnalysis\"\n",
    "scols = tdf.columns[:-1]\n",
    "analysisdf = au.do_clf_validate_new(tdf, algo_str,algos_dd[algo_str], scols, \"failure\")"
   ]
  },
  {
   "cell_type": "markdown",
   "metadata": {},
   "source": [
    "### Recall is definitely much better with a4 derived Features!\n",
    "### Loss in precision might be worth it if we can do hypothesis testing from field data\n",
    "### Let's see if we can get similar or better performance with lesser features"
   ]
  },
  {
   "cell_type": "code",
   "execution_count": null,
   "metadata": {
    "collapsed": true
   },
   "outputs": [],
   "source": []
  },
  {
   "cell_type": "markdown",
   "metadata": {},
   "source": [
    "### Variance Threshold based Feature selection"
   ]
  },
  {
   "cell_type": "code",
   "execution_count": 16,
   "metadata": {
    "collapsed": false
   },
   "outputs": [
    {
     "name": "stdout",
     "output_type": "stream",
     "text": [
      "a2l_range\n",
      "a7l_range\n",
      "a4d_max\n",
      "a4l_range\n"
     ]
    }
   ],
   "source": [
    "X = tdf[tdf.columns[:-1]]\n",
    "y = tdf[\"failure\"]\n",
    "sel = VarianceThreshold(threshold=(.8 * (1 - .8)))\n",
    "X_new = sel.fit_transform(X)\n",
    "sel.get_support()\n",
    "cnt = 0\n",
    "allcols = tdf.columns[:-1]\n",
    "for decision in sel.get_support():\n",
    "    if decision == True:\n",
    "        print allcols[cnt]\n",
    "    cnt = cnt + 1"
   ]
  },
  {
   "cell_type": "code",
   "execution_count": 17,
   "metadata": {
    "collapsed": false
   },
   "outputs": [
    {
     "name": "stdout",
     "output_type": "stream",
     "text": [
      "Cross-val-score(roc_auc) = 0.78\n",
      "Cross-val-score(accuracy) = 0.93\n",
      "Cross-val-score(recall)   = 0.51\n",
      "Cross-val-score(precision)= 0.65\n",
      "Cross-val-score(f1)       = 0.65\n"
     ]
    }
   ],
   "source": [
    "#Adding a2l_range, a4d_max and a4l_range based on above analysis\n",
    "scols = [\"a2l_range\", \"a2d_std\", \"a7d_std\",\"a7l_range\",\"a4d_max\", \"a4l_range\"]\n",
    "algo_str = \"QuadraticDiscriminantAnalysis\"\n",
    "scols = [\"a2l_range\", \"a2d_std\", \"a7d_std\",\"a7l_range\",\"a4d_max\", \"a4l_range\"]\n",
    "analysisdf = au.do_clf_validate_new(tdf, algo_str,algos_dd[algo_str], scols, \"failure\")"
   ]
  },
  {
   "cell_type": "markdown",
   "metadata": {},
   "source": [
    "### Variance Threshold Feature Selection Summary\n",
    "##### a2l_range, a4d_max and a4l_range: Definitely adding more sensitivity (expense of precision)\n",
    "##### But for same precision, All features have recall = 0.56 (better than 0.51)"
   ]
  },
  {
   "cell_type": "code",
   "execution_count": null,
   "metadata": {
    "collapsed": true
   },
   "outputs": [],
   "source": []
  },
  {
   "cell_type": "markdown",
   "metadata": {},
   "source": [
    "### Randomized Lasso  \n",
    "#### (Surprisingly, of no use: TBD: Need to understand why)"
   ]
  },
  {
   "cell_type": "code",
   "execution_count": 23,
   "metadata": {
    "collapsed": false
   },
   "outputs": [
    {
     "name": "stdout",
     "output_type": "stream",
     "text": [
      "Features sorted by their score:\n",
      "[(0.0, 'a7l_range'), (0.0, 'a7d_std'), (0.0, 'a7d_mean'), (0.0, 'a7d_max'), (0.0, 'a4l_range'), (0.0, 'a4d_std'), (0.0, 'a4d_mean'), (0.0, 'a4d_max'), (0.0, 'a2l_range'), (0.0, 'a2d_std'), (0.0, 'a2d_mean'), (0.0, 'a2d_max')]\n"
     ]
    }
   ],
   "source": [
    "fcols = tdf.columns[:-1] \n",
    "X = tdf[fcols]\n",
    "Y = tdf[\"failure\"]\n",
    "rlasso = RandomizedLasso(alpha=0.025)\n",
    "rlasso.fit(X, Y)\n",
    " \n",
    "print \"Features sorted by their score:\"\n",
    "print sorted(zip(map(lambda x: round(x, 4), rlasso.scores_), \n",
    "                 fcols), reverse=True)"
   ]
  },
  {
   "cell_type": "code",
   "execution_count": null,
   "metadata": {
    "collapsed": true
   },
   "outputs": [],
   "source": []
  },
  {
   "cell_type": "markdown",
   "metadata": {},
   "source": [
    "### Recursive Feature Elimination (QDA doesn't support RFE). Use LogisticRegression instead"
   ]
  },
  {
   "cell_type": "code",
   "execution_count": 24,
   "metadata": {
    "collapsed": false
   },
   "outputs": [
    {
     "name": "stdout",
     "output_type": "stream",
     "text": [
      "Features sorted by their rank:\n",
      "[(1, 'a2l_range'), (1, 'a7l_range'), (2, 'a7d_max'), (3, 'a4d_mean'), (4, 'a4l_range'), (5, 'a7d_std'), (6, 'a7d_mean'), (7, 'a4d_std'), (8, 'a2d_std'), (9, 'a2d_mean'), (10, 'a2d_max'), (11, 'a4d_max')]\n"
     ]
    }
   ],
   "source": [
    "fcols = [x for x in tdf.columns[:-1]]\n",
    "X = tdf[fcols]\n",
    "Y = tdf[\"failure\"]\n",
    "clf = LogisticRegression()\n",
    "rfe = RFE(clf, n_features_to_select=2)\n",
    "rfe.fit(X,Y)\n",
    " \n",
    "print \"Features sorted by their rank:\"\n",
    "print sorted(zip(rfe.ranking_, fcols))"
   ]
  },
  {
   "cell_type": "code",
   "execution_count": 25,
   "metadata": {
    "collapsed": false
   },
   "outputs": [
    {
     "name": "stdout",
     "output_type": "stream",
     "text": [
      "Cross-val-score(roc_auc) = 0.79\n",
      "Cross-val-score(accuracy) = 0.93\n",
      "Cross-val-score(recall)   = 0.55\n",
      "Cross-val-score(precision)= 0.64\n",
      "Cross-val-score(f1)       = 0.64\n"
     ]
    }
   ],
   "source": [
    "#a4d_mean: Need to add this\n",
    "#a2l_range, a4l_range: Already added this based on Variance Threshold analysis\n",
    "#a7l_range, a7d_max, a7d_std, a7d_mean: This is already in baseline\n",
    "algo_str = \"QuadraticDiscriminantAnalysis\"\n",
    "scols = [\"a2l_range\", \"a2d_std\", \"a7d_std\",\"a7l_range\",\"a4d_max\", \"a4l_range\", \"a4d_mean\"]\n",
    "analysisdf = au.do_clf_validate_new(tdf, algo_str,algos_dd[algo_str], scols, \"failure\")\n"
   ]
  },
  {
   "cell_type": "markdown",
   "metadata": {},
   "source": [
    "#### Summary for RFE\n",
    "##### Adding a4d_mean definitely boosting recall, without too much impact on precision"
   ]
  },
  {
   "cell_type": "code",
   "execution_count": null,
   "metadata": {
    "collapsed": true
   },
   "outputs": [],
   "source": []
  },
  {
   "cell_type": "markdown",
   "metadata": {},
   "source": [
    "### Correlation of failure with all variables"
   ]
  },
  {
   "cell_type": "code",
   "execution_count": 27,
   "metadata": {
    "collapsed": false
   },
   "outputs": [
    {
     "data": {
      "text/html": [
       "<div>\n",
       "<table border=\"1\" class=\"dataframe\">\n",
       "  <thead>\n",
       "    <tr style=\"text-align: right;\">\n",
       "      <th></th>\n",
       "      <th>failure</th>\n",
       "    </tr>\n",
       "  </thead>\n",
       "  <tbody>\n",
       "    <tr>\n",
       "      <th>failure</th>\n",
       "      <td>1.000000</td>\n",
       "    </tr>\n",
       "    <tr>\n",
       "      <th>a4l_range</th>\n",
       "      <td>0.482712</td>\n",
       "    </tr>\n",
       "    <tr>\n",
       "      <th>a7d_std</th>\n",
       "      <td>0.453876</td>\n",
       "    </tr>\n",
       "    <tr>\n",
       "      <th>a7l_range</th>\n",
       "      <td>0.447489</td>\n",
       "    </tr>\n",
       "    <tr>\n",
       "      <th>a7d_mean</th>\n",
       "      <td>-0.421852</td>\n",
       "    </tr>\n",
       "    <tr>\n",
       "      <th>a2l_range</th>\n",
       "      <td>0.386144</td>\n",
       "    </tr>\n",
       "    <tr>\n",
       "      <th>a2d_std</th>\n",
       "      <td>0.346241</td>\n",
       "    </tr>\n",
       "    <tr>\n",
       "      <th>a2d_max</th>\n",
       "      <td>0.319640</td>\n",
       "    </tr>\n",
       "    <tr>\n",
       "      <th>a2d_mean</th>\n",
       "      <td>-0.287751</td>\n",
       "    </tr>\n",
       "    <tr>\n",
       "      <th>a4d_std</th>\n",
       "      <td>0.247814</td>\n",
       "    </tr>\n",
       "    <tr>\n",
       "      <th>a7d_max</th>\n",
       "      <td>0.203912</td>\n",
       "    </tr>\n",
       "    <tr>\n",
       "      <th>a4d_max</th>\n",
       "      <td>0.159966</td>\n",
       "    </tr>\n",
       "    <tr>\n",
       "      <th>a4d_mean</th>\n",
       "      <td>0.051375</td>\n",
       "    </tr>\n",
       "  </tbody>\n",
       "</table>\n",
       "</div>"
      ],
      "text/plain": [
       "            failure\n",
       "failure    1.000000\n",
       "a4l_range  0.482712\n",
       "a7d_std    0.453876\n",
       "a7l_range  0.447489\n",
       "a7d_mean  -0.421852\n",
       "a2l_range  0.386144\n",
       "a2d_std    0.346241\n",
       "a2d_max    0.319640\n",
       "a2d_mean  -0.287751\n",
       "a4d_std    0.247814\n",
       "a7d_max    0.203912\n",
       "a4d_max    0.159966\n",
       "a4d_mean   0.051375"
      ]
     },
     "execution_count": 27,
     "metadata": {},
     "output_type": "execute_result"
    }
   ],
   "source": [
    "fcdf = pd.DataFrame(tdf.corr()[\"failure\"])\n",
    "fcdf.loc[:,\"failure_abs\"] = fcdf.failure.map(lambda x: abs(x))\n",
    "fcdf.sort_values(by=\"failure_abs\", ascending=False, inplace=True)\n",
    "fcdf.drop([\"failure_abs\"], axis=1, inplace=True)\n",
    "fcdf"
   ]
  },
  {
   "cell_type": "code",
   "execution_count": null,
   "metadata": {
    "collapsed": true
   },
   "outputs": [],
   "source": []
  },
  {
   "cell_type": "markdown",
   "metadata": {},
   "source": [
    "#### For QDA, what matters most is difference in correlation between different classes"
   ]
  },
  {
   "cell_type": "code",
   "execution_count": 29,
   "metadata": {
    "collapsed": false
   },
   "outputs": [
    {
     "data": {
      "text/html": [
       "<div>\n",
       "<table border=\"1\" class=\"dataframe\">\n",
       "  <thead>\n",
       "    <tr style=\"text-align: right;\">\n",
       "      <th></th>\n",
       "      <th>a2d_max</th>\n",
       "      <th>a2d_mean</th>\n",
       "      <th>a2d_std</th>\n",
       "      <th>a2l_range</th>\n",
       "      <th>a7d_max</th>\n",
       "      <th>a7d_mean</th>\n",
       "      <th>a7d_std</th>\n",
       "      <th>a7l_range</th>\n",
       "      <th>a4d_max</th>\n",
       "      <th>a4d_mean</th>\n",
       "      <th>a4d_std</th>\n",
       "      <th>a4l_range</th>\n",
       "      <th>failure</th>\n",
       "    </tr>\n",
       "  </thead>\n",
       "  <tbody>\n",
       "    <tr>\n",
       "      <th>a2d_max</th>\n",
       "      <td>1.000000</td>\n",
       "      <td>0.876467</td>\n",
       "      <td>0.979157</td>\n",
       "      <td>0.924475</td>\n",
       "      <td>0.280718</td>\n",
       "      <td>0.004785</td>\n",
       "      <td>0.116430</td>\n",
       "      <td>0.155355</td>\n",
       "      <td>0.011553</td>\n",
       "      <td>0.055736</td>\n",
       "      <td>0.029822</td>\n",
       "      <td>0.115258</td>\n",
       "      <td>NaN</td>\n",
       "    </tr>\n",
       "    <tr>\n",
       "      <th>a2d_mean</th>\n",
       "      <td>0.876467</td>\n",
       "      <td>1.000000</td>\n",
       "      <td>0.830472</td>\n",
       "      <td>0.820134</td>\n",
       "      <td>0.405954</td>\n",
       "      <td>-0.008970</td>\n",
       "      <td>0.178529</td>\n",
       "      <td>0.236265</td>\n",
       "      <td>0.013675</td>\n",
       "      <td>0.064890</td>\n",
       "      <td>0.039523</td>\n",
       "      <td>0.153533</td>\n",
       "      <td>NaN</td>\n",
       "    </tr>\n",
       "    <tr>\n",
       "      <th>a2d_std</th>\n",
       "      <td>0.979157</td>\n",
       "      <td>0.830472</td>\n",
       "      <td>1.000000</td>\n",
       "      <td>0.959579</td>\n",
       "      <td>0.248684</td>\n",
       "      <td>0.012098</td>\n",
       "      <td>0.098964</td>\n",
       "      <td>0.130937</td>\n",
       "      <td>0.009871</td>\n",
       "      <td>0.057031</td>\n",
       "      <td>0.026434</td>\n",
       "      <td>0.105819</td>\n",
       "      <td>NaN</td>\n",
       "    </tr>\n",
       "    <tr>\n",
       "      <th>a2l_range</th>\n",
       "      <td>0.924475</td>\n",
       "      <td>0.820134</td>\n",
       "      <td>0.959579</td>\n",
       "      <td>1.000000</td>\n",
       "      <td>0.421380</td>\n",
       "      <td>-0.018684</td>\n",
       "      <td>0.189667</td>\n",
       "      <td>0.254386</td>\n",
       "      <td>0.019428</td>\n",
       "      <td>0.066123</td>\n",
       "      <td>0.047078</td>\n",
       "      <td>0.163158</td>\n",
       "      <td>NaN</td>\n",
       "    </tr>\n",
       "    <tr>\n",
       "      <th>a7d_max</th>\n",
       "      <td>0.280718</td>\n",
       "      <td>0.405954</td>\n",
       "      <td>0.248684</td>\n",
       "      <td>0.421380</td>\n",
       "      <td>1.000000</td>\n",
       "      <td>-0.158516</td>\n",
       "      <td>0.497531</td>\n",
       "      <td>0.706093</td>\n",
       "      <td>0.006534</td>\n",
       "      <td>-0.027512</td>\n",
       "      <td>0.066296</td>\n",
       "      <td>0.276579</td>\n",
       "      <td>NaN</td>\n",
       "    </tr>\n",
       "    <tr>\n",
       "      <th>a7d_mean</th>\n",
       "      <td>0.004785</td>\n",
       "      <td>-0.008970</td>\n",
       "      <td>0.012098</td>\n",
       "      <td>-0.018684</td>\n",
       "      <td>-0.158516</td>\n",
       "      <td>1.000000</td>\n",
       "      <td>-0.925136</td>\n",
       "      <td>-0.782458</td>\n",
       "      <td>0.000540</td>\n",
       "      <td>0.014731</td>\n",
       "      <td>-0.011642</td>\n",
       "      <td>-0.045010</td>\n",
       "      <td>NaN</td>\n",
       "    </tr>\n",
       "    <tr>\n",
       "      <th>a7d_std</th>\n",
       "      <td>0.116430</td>\n",
       "      <td>0.178529</td>\n",
       "      <td>0.098964</td>\n",
       "      <td>0.189667</td>\n",
       "      <td>0.497531</td>\n",
       "      <td>-0.925136</td>\n",
       "      <td>1.000000</td>\n",
       "      <td>0.957153</td>\n",
       "      <td>0.002103</td>\n",
       "      <td>-0.018053</td>\n",
       "      <td>0.033861</td>\n",
       "      <td>0.139098</td>\n",
       "      <td>NaN</td>\n",
       "    </tr>\n",
       "    <tr>\n",
       "      <th>a7l_range</th>\n",
       "      <td>0.155355</td>\n",
       "      <td>0.236265</td>\n",
       "      <td>0.130937</td>\n",
       "      <td>0.254386</td>\n",
       "      <td>0.706093</td>\n",
       "      <td>-0.782458</td>\n",
       "      <td>0.957153</td>\n",
       "      <td>1.000000</td>\n",
       "      <td>0.003069</td>\n",
       "      <td>-0.030069</td>\n",
       "      <td>0.047045</td>\n",
       "      <td>0.194575</td>\n",
       "      <td>NaN</td>\n",
       "    </tr>\n",
       "    <tr>\n",
       "      <th>a4d_max</th>\n",
       "      <td>0.011553</td>\n",
       "      <td>0.013675</td>\n",
       "      <td>0.009871</td>\n",
       "      <td>0.019428</td>\n",
       "      <td>0.006534</td>\n",
       "      <td>0.000540</td>\n",
       "      <td>0.002103</td>\n",
       "      <td>0.003069</td>\n",
       "      <td>1.000000</td>\n",
       "      <td>0.971616</td>\n",
       "      <td>0.985479</td>\n",
       "      <td>0.365307</td>\n",
       "      <td>NaN</td>\n",
       "    </tr>\n",
       "    <tr>\n",
       "      <th>a4d_mean</th>\n",
       "      <td>0.055736</td>\n",
       "      <td>0.064890</td>\n",
       "      <td>0.057031</td>\n",
       "      <td>0.066123</td>\n",
       "      <td>-0.027512</td>\n",
       "      <td>0.014731</td>\n",
       "      <td>-0.018053</td>\n",
       "      <td>-0.030069</td>\n",
       "      <td>0.971616</td>\n",
       "      <td>1.000000</td>\n",
       "      <td>0.938878</td>\n",
       "      <td>0.264671</td>\n",
       "      <td>NaN</td>\n",
       "    </tr>\n",
       "    <tr>\n",
       "      <th>a4d_std</th>\n",
       "      <td>0.029822</td>\n",
       "      <td>0.039523</td>\n",
       "      <td>0.026434</td>\n",
       "      <td>0.047078</td>\n",
       "      <td>0.066296</td>\n",
       "      <td>-0.011642</td>\n",
       "      <td>0.033861</td>\n",
       "      <td>0.047045</td>\n",
       "      <td>0.985479</td>\n",
       "      <td>0.938878</td>\n",
       "      <td>1.000000</td>\n",
       "      <td>0.436788</td>\n",
       "      <td>NaN</td>\n",
       "    </tr>\n",
       "    <tr>\n",
       "      <th>a4l_range</th>\n",
       "      <td>0.115258</td>\n",
       "      <td>0.153533</td>\n",
       "      <td>0.105819</td>\n",
       "      <td>0.163158</td>\n",
       "      <td>0.276579</td>\n",
       "      <td>-0.045010</td>\n",
       "      <td>0.139098</td>\n",
       "      <td>0.194575</td>\n",
       "      <td>0.365307</td>\n",
       "      <td>0.264671</td>\n",
       "      <td>0.436788</td>\n",
       "      <td>1.000000</td>\n",
       "      <td>NaN</td>\n",
       "    </tr>\n",
       "    <tr>\n",
       "      <th>failure</th>\n",
       "      <td>NaN</td>\n",
       "      <td>NaN</td>\n",
       "      <td>NaN</td>\n",
       "      <td>NaN</td>\n",
       "      <td>NaN</td>\n",
       "      <td>NaN</td>\n",
       "      <td>NaN</td>\n",
       "      <td>NaN</td>\n",
       "      <td>NaN</td>\n",
       "      <td>NaN</td>\n",
       "      <td>NaN</td>\n",
       "      <td>NaN</td>\n",
       "      <td>NaN</td>\n",
       "    </tr>\n",
       "  </tbody>\n",
       "</table>\n",
       "</div>"
      ],
      "text/plain": [
       "            a2d_max  a2d_mean   a2d_std  a2l_range   a7d_max  a7d_mean  \\\n",
       "a2d_max    1.000000  0.876467  0.979157   0.924475  0.280718  0.004785   \n",
       "a2d_mean   0.876467  1.000000  0.830472   0.820134  0.405954 -0.008970   \n",
       "a2d_std    0.979157  0.830472  1.000000   0.959579  0.248684  0.012098   \n",
       "a2l_range  0.924475  0.820134  0.959579   1.000000  0.421380 -0.018684   \n",
       "a7d_max    0.280718  0.405954  0.248684   0.421380  1.000000 -0.158516   \n",
       "a7d_mean   0.004785 -0.008970  0.012098  -0.018684 -0.158516  1.000000   \n",
       "a7d_std    0.116430  0.178529  0.098964   0.189667  0.497531 -0.925136   \n",
       "a7l_range  0.155355  0.236265  0.130937   0.254386  0.706093 -0.782458   \n",
       "a4d_max    0.011553  0.013675  0.009871   0.019428  0.006534  0.000540   \n",
       "a4d_mean   0.055736  0.064890  0.057031   0.066123 -0.027512  0.014731   \n",
       "a4d_std    0.029822  0.039523  0.026434   0.047078  0.066296 -0.011642   \n",
       "a4l_range  0.115258  0.153533  0.105819   0.163158  0.276579 -0.045010   \n",
       "failure         NaN       NaN       NaN        NaN       NaN       NaN   \n",
       "\n",
       "            a7d_std  a7l_range   a4d_max  a4d_mean   a4d_std  a4l_range  \\\n",
       "a2d_max    0.116430   0.155355  0.011553  0.055736  0.029822   0.115258   \n",
       "a2d_mean   0.178529   0.236265  0.013675  0.064890  0.039523   0.153533   \n",
       "a2d_std    0.098964   0.130937  0.009871  0.057031  0.026434   0.105819   \n",
       "a2l_range  0.189667   0.254386  0.019428  0.066123  0.047078   0.163158   \n",
       "a7d_max    0.497531   0.706093  0.006534 -0.027512  0.066296   0.276579   \n",
       "a7d_mean  -0.925136  -0.782458  0.000540  0.014731 -0.011642  -0.045010   \n",
       "a7d_std    1.000000   0.957153  0.002103 -0.018053  0.033861   0.139098   \n",
       "a7l_range  0.957153   1.000000  0.003069 -0.030069  0.047045   0.194575   \n",
       "a4d_max    0.002103   0.003069  1.000000  0.971616  0.985479   0.365307   \n",
       "a4d_mean  -0.018053  -0.030069  0.971616  1.000000  0.938878   0.264671   \n",
       "a4d_std    0.033861   0.047045  0.985479  0.938878  1.000000   0.436788   \n",
       "a4l_range  0.139098   0.194575  0.365307  0.264671  0.436788   1.000000   \n",
       "failure         NaN        NaN       NaN       NaN       NaN        NaN   \n",
       "\n",
       "           failure  \n",
       "a2d_max        NaN  \n",
       "a2d_mean       NaN  \n",
       "a2d_std        NaN  \n",
       "a2l_range      NaN  \n",
       "a7d_max        NaN  \n",
       "a7d_mean       NaN  \n",
       "a7d_std        NaN  \n",
       "a7l_range      NaN  \n",
       "a4d_max        NaN  \n",
       "a4d_mean       NaN  \n",
       "a4d_std        NaN  \n",
       "a4l_range      NaN  \n",
       "failure        NaN  "
      ]
     },
     "execution_count": 29,
     "metadata": {},
     "output_type": "execute_result"
    }
   ],
   "source": [
    "tdf[tdf[\"failure\"] == 0].corr()"
   ]
  },
  {
   "cell_type": "code",
   "execution_count": 30,
   "metadata": {
    "collapsed": false
   },
   "outputs": [
    {
     "data": {
      "text/html": [
       "<div>\n",
       "<table border=\"1\" class=\"dataframe\">\n",
       "  <thead>\n",
       "    <tr style=\"text-align: right;\">\n",
       "      <th></th>\n",
       "      <th>a2d_max</th>\n",
       "      <th>a2d_mean</th>\n",
       "      <th>a2d_std</th>\n",
       "      <th>a2l_range</th>\n",
       "      <th>a7d_max</th>\n",
       "      <th>a7d_mean</th>\n",
       "      <th>a7d_std</th>\n",
       "      <th>a7l_range</th>\n",
       "      <th>a4d_max</th>\n",
       "      <th>a4d_mean</th>\n",
       "      <th>a4d_std</th>\n",
       "      <th>a4l_range</th>\n",
       "    </tr>\n",
       "  </thead>\n",
       "  <tbody>\n",
       "    <tr>\n",
       "      <th>a2d_max</th>\n",
       "      <td>1.000000</td>\n",
       "      <td>-0.187700</td>\n",
       "      <td>0.379686</td>\n",
       "      <td>0.565935</td>\n",
       "      <td>0.100255</td>\n",
       "      <td>-0.111395</td>\n",
       "      <td>0.163974</td>\n",
       "      <td>0.172496</td>\n",
       "      <td>0.129601</td>\n",
       "      <td>0.096996</td>\n",
       "      <td>0.189036</td>\n",
       "      <td>0.291658</td>\n",
       "    </tr>\n",
       "    <tr>\n",
       "      <th>a2d_mean</th>\n",
       "      <td>-0.187700</td>\n",
       "      <td>1.000000</td>\n",
       "      <td>-0.976761</td>\n",
       "      <td>-0.908298</td>\n",
       "      <td>0.010513</td>\n",
       "      <td>0.222996</td>\n",
       "      <td>-0.192964</td>\n",
       "      <td>-0.170859</td>\n",
       "      <td>0.094696</td>\n",
       "      <td>0.195499</td>\n",
       "      <td>-0.032450</td>\n",
       "      <td>-0.391560</td>\n",
       "    </tr>\n",
       "    <tr>\n",
       "      <th>a2d_std</th>\n",
       "      <td>0.379686</td>\n",
       "      <td>-0.976761</td>\n",
       "      <td>1.000000</td>\n",
       "      <td>0.973922</td>\n",
       "      <td>0.022193</td>\n",
       "      <td>-0.222135</td>\n",
       "      <td>0.207586</td>\n",
       "      <td>0.188264</td>\n",
       "      <td>-0.060944</td>\n",
       "      <td>-0.157794</td>\n",
       "      <td>0.071098</td>\n",
       "      <td>0.430994</td>\n",
       "    </tr>\n",
       "    <tr>\n",
       "      <th>a2l_range</th>\n",
       "      <td>0.565935</td>\n",
       "      <td>-0.908298</td>\n",
       "      <td>0.973922</td>\n",
       "      <td>1.000000</td>\n",
       "      <td>0.044539</td>\n",
       "      <td>-0.223800</td>\n",
       "      <td>0.221222</td>\n",
       "      <td>0.207453</td>\n",
       "      <td>-0.028156</td>\n",
       "      <td>-0.125853</td>\n",
       "      <td>0.104044</td>\n",
       "      <td>0.448053</td>\n",
       "    </tr>\n",
       "    <tr>\n",
       "      <th>a7d_max</th>\n",
       "      <td>0.100255</td>\n",
       "      <td>0.010513</td>\n",
       "      <td>0.022193</td>\n",
       "      <td>0.044539</td>\n",
       "      <td>1.000000</td>\n",
       "      <td>-0.127484</td>\n",
       "      <td>0.322978</td>\n",
       "      <td>0.454068</td>\n",
       "      <td>0.077046</td>\n",
       "      <td>0.277936</td>\n",
       "      <td>0.172314</td>\n",
       "      <td>0.154870</td>\n",
       "    </tr>\n",
       "    <tr>\n",
       "      <th>a7d_mean</th>\n",
       "      <td>-0.111395</td>\n",
       "      <td>0.222996</td>\n",
       "      <td>-0.222135</td>\n",
       "      <td>-0.223800</td>\n",
       "      <td>-0.127484</td>\n",
       "      <td>1.000000</td>\n",
       "      <td>-0.962195</td>\n",
       "      <td>-0.910083</td>\n",
       "      <td>-0.200717</td>\n",
       "      <td>-0.166550</td>\n",
       "      <td>-0.258298</td>\n",
       "      <td>-0.212284</td>\n",
       "    </tr>\n",
       "    <tr>\n",
       "      <th>a7d_std</th>\n",
       "      <td>0.163974</td>\n",
       "      <td>-0.192964</td>\n",
       "      <td>0.207586</td>\n",
       "      <td>0.221222</td>\n",
       "      <td>0.322978</td>\n",
       "      <td>-0.962195</td>\n",
       "      <td>1.000000</td>\n",
       "      <td>0.985359</td>\n",
       "      <td>0.229747</td>\n",
       "      <td>0.242056</td>\n",
       "      <td>0.301807</td>\n",
       "      <td>0.218112</td>\n",
       "    </tr>\n",
       "    <tr>\n",
       "      <th>a7l_range</th>\n",
       "      <td>0.172496</td>\n",
       "      <td>-0.170859</td>\n",
       "      <td>0.188264</td>\n",
       "      <td>0.207453</td>\n",
       "      <td>0.454068</td>\n",
       "      <td>-0.910083</td>\n",
       "      <td>0.985359</td>\n",
       "      <td>1.000000</td>\n",
       "      <td>0.228868</td>\n",
       "      <td>0.267453</td>\n",
       "      <td>0.312119</td>\n",
       "      <td>0.223580</td>\n",
       "    </tr>\n",
       "    <tr>\n",
       "      <th>a4d_max</th>\n",
       "      <td>0.129601</td>\n",
       "      <td>0.094696</td>\n",
       "      <td>-0.060944</td>\n",
       "      <td>-0.028156</td>\n",
       "      <td>0.077046</td>\n",
       "      <td>-0.200717</td>\n",
       "      <td>0.229747</td>\n",
       "      <td>0.228868</td>\n",
       "      <td>1.000000</td>\n",
       "      <td>0.852552</td>\n",
       "      <td>0.894497</td>\n",
       "      <td>0.197314</td>\n",
       "    </tr>\n",
       "    <tr>\n",
       "      <th>a4d_mean</th>\n",
       "      <td>0.096996</td>\n",
       "      <td>0.195499</td>\n",
       "      <td>-0.157794</td>\n",
       "      <td>-0.125853</td>\n",
       "      <td>0.277936</td>\n",
       "      <td>-0.166550</td>\n",
       "      <td>0.242056</td>\n",
       "      <td>0.267453</td>\n",
       "      <td>0.852552</td>\n",
       "      <td>1.000000</td>\n",
       "      <td>0.802666</td>\n",
       "      <td>-0.078440</td>\n",
       "    </tr>\n",
       "    <tr>\n",
       "      <th>a4d_std</th>\n",
       "      <td>0.189036</td>\n",
       "      <td>-0.032450</td>\n",
       "      <td>0.071098</td>\n",
       "      <td>0.104044</td>\n",
       "      <td>0.172314</td>\n",
       "      <td>-0.258298</td>\n",
       "      <td>0.301807</td>\n",
       "      <td>0.312119</td>\n",
       "      <td>0.894497</td>\n",
       "      <td>0.802666</td>\n",
       "      <td>1.000000</td>\n",
       "      <td>0.392967</td>\n",
       "    </tr>\n",
       "    <tr>\n",
       "      <th>a4l_range</th>\n",
       "      <td>0.291658</td>\n",
       "      <td>-0.391560</td>\n",
       "      <td>0.430994</td>\n",
       "      <td>0.448053</td>\n",
       "      <td>0.154870</td>\n",
       "      <td>-0.212284</td>\n",
       "      <td>0.218112</td>\n",
       "      <td>0.223580</td>\n",
       "      <td>0.197314</td>\n",
       "      <td>-0.078440</td>\n",
       "      <td>0.392967</td>\n",
       "      <td>1.000000</td>\n",
       "    </tr>\n",
       "  </tbody>\n",
       "</table>\n",
       "</div>"
      ],
      "text/plain": [
       "            a2d_max  a2d_mean   a2d_std  a2l_range   a7d_max  a7d_mean  \\\n",
       "a2d_max    1.000000 -0.187700  0.379686   0.565935  0.100255 -0.111395   \n",
       "a2d_mean  -0.187700  1.000000 -0.976761  -0.908298  0.010513  0.222996   \n",
       "a2d_std    0.379686 -0.976761  1.000000   0.973922  0.022193 -0.222135   \n",
       "a2l_range  0.565935 -0.908298  0.973922   1.000000  0.044539 -0.223800   \n",
       "a7d_max    0.100255  0.010513  0.022193   0.044539  1.000000 -0.127484   \n",
       "a7d_mean  -0.111395  0.222996 -0.222135  -0.223800 -0.127484  1.000000   \n",
       "a7d_std    0.163974 -0.192964  0.207586   0.221222  0.322978 -0.962195   \n",
       "a7l_range  0.172496 -0.170859  0.188264   0.207453  0.454068 -0.910083   \n",
       "a4d_max    0.129601  0.094696 -0.060944  -0.028156  0.077046 -0.200717   \n",
       "a4d_mean   0.096996  0.195499 -0.157794  -0.125853  0.277936 -0.166550   \n",
       "a4d_std    0.189036 -0.032450  0.071098   0.104044  0.172314 -0.258298   \n",
       "a4l_range  0.291658 -0.391560  0.430994   0.448053  0.154870 -0.212284   \n",
       "\n",
       "            a7d_std  a7l_range   a4d_max  a4d_mean   a4d_std  a4l_range  \n",
       "a2d_max    0.163974   0.172496  0.129601  0.096996  0.189036   0.291658  \n",
       "a2d_mean  -0.192964  -0.170859  0.094696  0.195499 -0.032450  -0.391560  \n",
       "a2d_std    0.207586   0.188264 -0.060944 -0.157794  0.071098   0.430994  \n",
       "a2l_range  0.221222   0.207453 -0.028156 -0.125853  0.104044   0.448053  \n",
       "a7d_max    0.322978   0.454068  0.077046  0.277936  0.172314   0.154870  \n",
       "a7d_mean  -0.962195  -0.910083 -0.200717 -0.166550 -0.258298  -0.212284  \n",
       "a7d_std    1.000000   0.985359  0.229747  0.242056  0.301807   0.218112  \n",
       "a7l_range  0.985359   1.000000  0.228868  0.267453  0.312119   0.223580  \n",
       "a4d_max    0.229747   0.228868  1.000000  0.852552  0.894497   0.197314  \n",
       "a4d_mean   0.242056   0.267453  0.852552  1.000000  0.802666  -0.078440  \n",
       "a4d_std    0.301807   0.312119  0.894497  0.802666  1.000000   0.392967  \n",
       "a4l_range  0.218112   0.223580  0.197314 -0.078440  0.392967   1.000000  "
      ]
     },
     "execution_count": 30,
     "metadata": {},
     "output_type": "execute_result"
    }
   ],
   "source": [
    "tdf[tdf[\"failure\"] == 1][fcols].corr()"
   ]
  },
  {
   "cell_type": "code",
   "execution_count": 32,
   "metadata": {
    "collapsed": false
   },
   "outputs": [
    {
     "name": "stdout",
     "output_type": "stream",
     "text": [
      "Cross-val-score(roc_auc) = 0.79\n",
      "Cross-val-score(accuracy) = 0.93\n",
      "Cross-val-score(recall)   = 0.53\n",
      "Cross-val-score(precision)= 0.64\n",
      "Cross-val-score(f1)       = 0.64\n"
     ]
    }
   ],
   "source": [
    "#Based on: a2d_std Vs a2d_mean: +ve corr for good. -ve corr for bad\n",
    "#Possibly no improvement because of lack of signal in this selection.\n",
    "#May need to cross validate\n",
    "algo_str = \"QuadraticDiscriminantAnalysis\"\n",
    "scols = [\"a2l_range\", \"a2d_std\", \"a2d_mean\", \"a7d_std\",\"a7l_range\",\"a4d_max\", \"a4l_range\", \"a4d_mean\"]\n",
    "analysisdf = au.do_clf_validate_new(tdf, algo_str,algos_dd[algo_str], scols, \"failure\")"
   ]
  },
  {
   "cell_type": "code",
   "execution_count": 35,
   "metadata": {
    "collapsed": false
   },
   "outputs": [
    {
     "name": "stdout",
     "output_type": "stream",
     "text": [
      "Cross-val-score(roc_auc) = 0.78\n",
      "Cross-val-score(accuracy) = 0.93\n",
      "Cross-val-score(recall)   = 0.56\n",
      "Cross-val-score(precision)= 0.65\n",
      "Cross-val-score(f1)       = 0.65\n"
     ]
    }
   ],
   "source": [
    "algo_str = \"QuadraticDiscriminantAnalysis\"\n",
    "scols = tdf.columns[:-1]\n",
    "analysisdf = au.do_clf_validate_new(tdf, algo_str,algos_dd[algo_str], scols, \"failure\")"
   ]
  },
  {
   "cell_type": "markdown",
   "metadata": {},
   "source": [
    "### OVERALL SUMMARY\n",
    "#### Looks like need to use all Features derived from a2, a7 and a4"
   ]
  },
  {
   "cell_type": "code",
   "execution_count": null,
   "metadata": {
    "collapsed": true
   },
   "outputs": [],
   "source": []
  }
 ],
 "metadata": {
  "kernelspec": {
   "display_name": "Python 2",
   "language": "python",
   "name": "python2"
  },
  "language_info": {
   "codemirror_mode": {
    "name": "ipython",
    "version": 2
   },
   "file_extension": ".py",
   "mimetype": "text/x-python",
   "name": "python",
   "nbconvert_exporter": "python",
   "pygments_lexer": "ipython2",
   "version": "2.7.11"
  }
 },
 "nbformat": 4,
 "nbformat_minor": 0
}
