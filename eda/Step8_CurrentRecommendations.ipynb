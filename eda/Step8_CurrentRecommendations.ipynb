{
 "cells": [
  {
   "cell_type": "markdown",
   "metadata": {},
   "source": [
    "### Step 8: Overall Recommendations"
   ]
  },
  {
   "cell_type": "code",
   "execution_count": 2,
   "metadata": {
    "collapsed": true
   },
   "outputs": [],
   "source": [
    "import pandas as pd\n",
    "import sys\n",
    "import matplotlib.pyplot as plt\n",
    "from matplotlib.colors import ListedColormap\n",
    "import numpy as np\n",
    "%matplotlib inline\n",
    "cmap_bold = ListedColormap(['#00FF00','#FF0000'])\n",
    "sys.path.append('../utils')\n",
    "import DataAggregation as da\n",
    "import AlgoUtils as au"
   ]
  },
  {
   "cell_type": "code",
   "execution_count": 3,
   "metadata": {
    "collapsed": true
   },
   "outputs": [],
   "source": [
    "algos_dd = {\n",
    "    \"LogisticRegression\": {\"C\": 1e9},\n",
    "    \"LogisticRegressionB\": {\"C\": 1e9, \"class_weight\":'balanced'},\n",
    "    \"KNeighborsClassifier\": {\"n_neighbors\": 7},\n",
    "    \"LinearDiscriminantAnalysis\": {},\n",
    "    \"QuadraticDiscriminantAnalysis\": {},\n",
    "    \"SVC\": {}\n",
    "}\n",
    "\n",
    "fcols = [\"d_mean:d_std:d_max:l_range\",\n",
    "         \"d_mean:d_std:l_range\",\n",
    "         \"d_std:l_range\",\n",
    "         \"l_range\",\n",
    "         \"d_std\",\n",
    "         \"d_max\"]\n",
    "algos_str = [\"LogisticRegression\", \n",
    "             \"LogisticRegressionB\", \n",
    "             \"KNeighborsClassifier\",\n",
    "             \"LinearDiscriminantAnalysis\",\n",
    "             \"QuadraticDiscriminantAnalysis\"]"
   ]
  },
  {
   "cell_type": "code",
   "execution_count": 4,
   "metadata": {
    "collapsed": true
   },
   "outputs": [],
   "source": [
    "a2 = da.GetFrames(\"../data/device_failure.csv\", \"a2\")\n",
    "a7 = da.GetFrames(\"../data/device_failure.csv\", \"a7\")\n",
    "a4 = da.GetFrames(\"../data/device_failure.csv\", \"a4\", ldays=-30, lday_strict=False)\n",
    "tdf = a2.df_sfeature.drop(\"failure\", axis=1).join(a7.df_sfeature.drop(\"failure\", axis=1)).join(a4.df_sfeature)"
   ]
  },
  {
   "cell_type": "markdown",
   "metadata": {},
   "source": [
    "## All models and recommendations need further validation at scale!"
   ]
  },
  {
   "cell_type": "code",
   "execution_count": null,
   "metadata": {
    "collapsed": true
   },
   "outputs": [],
   "source": []
  },
  {
   "cell_type": "markdown",
   "metadata": {},
   "source": [
    "### Model 1: Definite Action Model\n",
    "### If this model detects failure, take action\n",
    "#### Ofcourse still need to do validation at scale\n",
    "#### See analysis in Step3_a2_analysis.ipynb, Step4_a7_analysis.ipynb for more info on why we are confident about this recommendation"
   ]
  },
  {
   "cell_type": "code",
   "execution_count": 6,
   "metadata": {
    "collapsed": false
   },
   "outputs": [
    {
     "name": "stdout",
     "output_type": "stream",
     "text": [
      "Cross-val-score(roc_auc) = 0.74\n",
      "Cross-val-score(accuracy) = 0.94\n",
      "Cross-val-score(recall)   = 0.46\n",
      "Cross-val-score(precision)= 0.76\n",
      "Cross-val-score(f1)       = 0.76\n"
     ]
    }
   ],
   "source": [
    "algo_str = \"QuadraticDiscriminantAnalysis\"\n",
    "scols = [\"a2l_range\", \"a2d_std\", \"a2d_mean\", \"a2d_max\",\n",
    "         \"a7l_range\", \"a7d_std\", \"a7d_mean\", \"a7d_max\"]\n",
    "analysisdf = au.do_clf_validate_new(tdf, algo_str,algos_dd[algo_str], scols, \"failure\")"
   ]
  },
  {
   "cell_type": "code",
   "execution_count": null,
   "metadata": {
    "collapsed": true
   },
   "outputs": [],
   "source": []
  },
  {
   "cell_type": "code",
   "execution_count": null,
   "metadata": {
    "collapsed": true
   },
   "outputs": [],
   "source": []
  },
  {
   "cell_type": "markdown",
   "metadata": {},
   "source": [
    "### Model 2:\n",
    "### If Model 1 does not detect failure, but this model detects failure\n",
    "### Recommend Inspection of device\n",
    "#### Do Hypothesis testing from field:\n",
    "##### How many days to actual failure once this model detected fail\n",
    "##### Refer to analysis in Step5_a4_analysis.ipynb for explanation"
   ]
  },
  {
   "cell_type": "code",
   "execution_count": 7,
   "metadata": {
    "collapsed": false
   },
   "outputs": [
    {
     "name": "stdout",
     "output_type": "stream",
     "text": [
      "Cross-val-score(roc_auc) = 0.78\n",
      "Cross-val-score(accuracy) = 0.93\n",
      "Cross-val-score(recall)   = 0.56\n",
      "Cross-val-score(precision)= 0.65\n",
      "Cross-val-score(f1)       = 0.65\n"
     ]
    }
   ],
   "source": [
    "algo_str = \"QuadraticDiscriminantAnalysis\"\n",
    "scols = tdf.columns[:-1]\n",
    "analysisdf = au.do_clf_validate_new(tdf, algo_str,algos_dd[algo_str], scols, \"failure\")"
   ]
  },
  {
   "cell_type": "code",
   "execution_count": null,
   "metadata": {
    "collapsed": true
   },
   "outputs": [],
   "source": []
  },
  {
   "cell_type": "markdown",
   "metadata": {},
   "source": [
    "## Data Quality Improvement Recommendations"
   ]
  },
  {
   "cell_type": "code",
   "execution_count": 16,
   "metadata": {
    "collapsed": false
   },
   "outputs": [
    {
     "data": {
      "text/plain": [
       "<matplotlib.text.Text at 0x7f4fd5213850>"
      ]
     },
     "execution_count": 16,
     "metadata": {},
     "output_type": "execute_result"
    },
    {
     "data": {
      "image/png": "[encoded data removed]",
      "text/plain": [
       "<matplotlib.figure.Figure at 0x7f4fd52c5f90>"
      ]
     },
     "metadata": {},
     "output_type": "display_data"
    }
   ],
   "source": [
    "df = pd.read_csv(\"../data/device_failure.csv\")\n",
    "df.loc[:,'date'] = pd.to_datetime(df['date'])\n",
    "df.groupby([\"date\"]).count()[\"device\"].plot.line()\n",
    "plt.ylabel(\"#devices\")"
   ]
  },
  {
   "cell_type": "markdown",
   "metadata": {},
   "source": [
    "#### NumDevices/day that were observed --> points to systemic ingestion/sampling problem\n",
    "#### This graph should remain relatively flat over time for same number of devices that are getting monitored\n",
    "#### Refer to Step1_EDA.ipynb for more information"
   ]
  },
  {
   "cell_type": "code",
   "execution_count": null,
   "metadata": {
    "collapsed": true
   },
   "outputs": [],
   "source": []
  },
  {
   "cell_type": "markdown",
   "metadata": {},
   "source": [
    "### Other Data Engineering related recommendations\n",
    "#### Possible ways to store raw and transformed (log and log differentials)\n",
    "##### i.  Druid or some other timeseries databases\n",
    "##### ii. Elastic / Solr (for quick exploration via Kibana/(Banana_Twigkit)\n",
    "##### iii. orc/parquet in hdfs with daily partitions\n",
    "###### Note in orc/parquet: Want to make sure device id be used as columns so that values for each device end up in columnar format. This makes aggregations/manipulations extremely fast."
   ]
  },
  {
   "cell_type": "code",
   "execution_count": null,
   "metadata": {
    "collapsed": true
   },
   "outputs": [],
   "source": []
  },
  {
   "cell_type": "markdown",
   "metadata": {},
   "source": [
    "### Thank You!\n",
    "##### It was fun working on this dataset.\n",
    "##### Need to be honest (to set your expectations)\n",
    "###### This data challenge took me close to ~ 15 hours which includes submission time.\n",
    "###### It took me good 4-6 hours or so to explore the data and just to get idea that I need to use logarithms and logarithm differentials as the values and ranges of devices were all over the place.\n",
    "###### It was really when I saw the clear seperation of good vs bad devices in scatter plots that I thought I was in right path\n",
    "###### I cannot wait to share these findings with my buddies over at HMS (https://www.hms-networks.com/about)\n",
    "###### Also request you to read my article I just published (https://www.linkedin.com/pulse/what-fastest-sailboat-taught-me-data-science-viswanath-puttagunta)\n",
    "\n",
    "### I look forward to the interview. My last interview with Amazon in 2012 was fantastic!"
   ]
  },
  {
   "cell_type": "code",
   "execution_count": null,
   "metadata": {
    "collapsed": true
   },
   "outputs": [],
   "source": []
  }
 ],
 "metadata": {
  "kernelspec": {
   "display_name": "Python 2",
   "language": "python",
   "name": "python2"
  },
  "language_info": {
   "codemirror_mode": {
    "name": "ipython",
    "version": 2
   },
   "file_extension": ".py",
   "mimetype": "text/x-python",
   "name": "python",
   "nbconvert_exporter": "python",
   "pygments_lexer": "ipython2",
   "version": "2.7.11"
  }
 },
 "nbformat": 4,
 "nbformat_minor": 0
}
